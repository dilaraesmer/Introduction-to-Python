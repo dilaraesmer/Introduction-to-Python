{
  "nbformat": 4,
  "nbformat_minor": 0,
  "metadata": {
    "colab": {
      "provenance": [],
      "authorship_tag": "ABX9TyOFGgZNZcBryl6oQp/N5mr5",
      "include_colab_link": true
    },
    "kernelspec": {
      "name": "python3",
      "display_name": "Python 3"
    },
    "language_info": {
      "name": "python"
    },
    "gpuClass": "standard"
  },
  "cells": [
    {
      "cell_type": "markdown",
      "metadata": {
        "id": "view-in-github",
        "colab_type": "text"
      },
      "source": [
        "<a href=\"https://colab.research.google.com/github/dilaraesmer/Introduction-to-python/blob/main/python_syntax_essentials.ipynb\" target=\"_parent\"><img src=\"https://colab.research.google.com/assets/colab-badge.svg\" alt=\"Open In Colab\"/></a>"
      ]
    },
    {
      "cell_type": "code",
      "execution_count": 1,
      "metadata": {
        "id": "N19egkTg_7kk",
        "colab": {
          "base_uri": "https://localhost:8080/"
        },
        "outputId": "6eb35784-0932-4ffe-e80e-fe2033c6fe59"
      },
      "outputs": [
        {
          "output_type": "stream",
          "name": "stdout",
          "text": [
            "my favourite number is smaller than 40\n"
          ]
        }
      ],
      "source": [
        "fav_number = 38\n",
        "if fav_number < 40: \n",
        " print(\"my favourite number is smaller than 40\")"
      ]
    },
    {
      "cell_type": "code",
      "source": [
        "a = 59 \n",
        "if a < 60:\n",
        "  a = a + 1\n",
        "print(\"\")"
      ],
      "metadata": {
        "id": "tFRmgzRECrln",
        "colab": {
          "base_uri": "https://localhost:8080/"
        },
        "outputId": "2e08028f-0458-4c0d-eec0-1b978b279d53"
      },
      "execution_count": 2,
      "outputs": [
        {
          "output_type": "stream",
          "name": "stdout",
          "text": [
            "\n"
          ]
        }
      ]
    },
    {
      "cell_type": "code",
      "source": [
        "def greeting(name):\n",
        "  print('Hello '+ name)\n",
        "greeting('Dilara')"
      ],
      "metadata": {
        "id": "8Yh7gUu8DZaX",
        "colab": {
          "base_uri": "https://localhost:8080/"
        },
        "outputId": "a52e6ddc-5db3-4777-e6d3-aef08a0aacd6"
      },
      "execution_count": 4,
      "outputs": [
        {
          "output_type": "stream",
          "name": "stdout",
          "text": [
            "Hello Dilara\n"
          ]
        }
      ]
    },
    {
      "cell_type": "code",
      "source": [
        "def greetings(name):\n",
        "  print(f'Hello , {name}')\n",
        "greetings('Dilara')"
      ],
      "metadata": {
        "id": "MJKIgXCSFd9V",
        "colab": {
          "base_uri": "https://localhost:8080/"
        },
        "outputId": "7baa5e65-54cf-4c94-cbe1-5cceb78ff124"
      },
      "execution_count": 5,
      "outputs": [
        {
          "output_type": "stream",
          "name": "stdout",
          "text": [
            "Hello , Dilara\n"
          ]
        }
      ]
    },
    {
      "cell_type": "code",
      "source": [
        "name = 'Deniz'\n",
        "type(name)"
      ],
      "metadata": {
        "id": "xC0jn0CKG7FF",
        "colab": {
          "base_uri": "https://localhost:8080/"
        },
        "outputId": "94e83aa5-aa44-4dd7-c849-04de4f87dbc5"
      },
      "execution_count": 3,
      "outputs": [
        {
          "output_type": "execute_result",
          "data": {
            "text/plain": [
              "str"
            ]
          },
          "metadata": {},
          "execution_count": 3
        }
      ]
    },
    {
      "cell_type": "code",
      "source": [
        "age = 38"
      ],
      "metadata": {
        "id": "A3rI2K7tvnOQ"
      },
      "execution_count": 7,
      "outputs": []
    },
    {
      "cell_type": "code",
      "source": [
        "print(age)"
      ],
      "metadata": {
        "colab": {
          "base_uri": "https://localhost:8080/"
        },
        "id": "tQAxXTcMwlnA",
        "outputId": "db2d2e92-e25a-4eaa-d6be-a74bdc981848"
      },
      "execution_count": 8,
      "outputs": [
        {
          "output_type": "stream",
          "name": "stdout",
          "text": [
            "38\n"
          ]
        }
      ]
    },
    {
      "cell_type": "code",
      "source": [
        "print(type(name))"
      ],
      "metadata": {
        "colab": {
          "base_uri": "https://localhost:8080/"
        },
        "id": "N3EtTdsOwtJT",
        "outputId": "031e82c2-ef30-4c6d-f399-12089dba193d"
      },
      "execution_count": 9,
      "outputs": [
        {
          "output_type": "stream",
          "name": "stdout",
          "text": [
            "<class 'str'>\n"
          ]
        }
      ]
    },
    {
      "cell_type": "code",
      "source": [
        "print(type(age))"
      ],
      "metadata": {
        "colab": {
          "base_uri": "https://localhost:8080/"
        },
        "id": "Tw5zN5Jtwvtp",
        "outputId": "d00ea6f9-acf3-45ad-bb4c-7de4e5181df2"
      },
      "execution_count": 10,
      "outputs": [
        {
          "output_type": "stream",
          "name": "stdout",
          "text": [
            "<class 'int'>\n"
          ]
        }
      ]
    },
    {
      "cell_type": "code",
      "source": [
        "store_items = ['Apple', 1.49, 'Banana', 6, 'Milk', 10, 'Cheese', 34]\n",
        "print(store_items, type(store_items))"
      ],
      "metadata": {
        "colab": {
          "base_uri": "https://localhost:8080/"
        },
        "id": "XE0riIVhxOu2",
        "outputId": "04bc6f5d-eec5-4dc3-9540-5f93652df182"
      },
      "execution_count": 12,
      "outputs": [
        {
          "output_type": "stream",
          "name": "stdout",
          "text": [
            "['Apple', 1.49, 'Banana', 6, 'Milk', 10, 'Cheese', 34] <class 'list'>\n"
          ]
        }
      ]
    },
    {
      "cell_type": "code",
      "source": [
        "print(store_items[6])"
      ],
      "metadata": {
        "colab": {
          "base_uri": "https://localhost:8080/"
        },
        "id": "An_TPl4ixt2h",
        "outputId": "9bf28c87-cee9-4d8b-e902-5788ee7919bc"
      },
      "execution_count": 15,
      "outputs": [
        {
          "output_type": "stream",
          "name": "stdout",
          "text": [
            "Cheese\n"
          ]
        }
      ]
    },
    {
      "cell_type": "code",
      "source": [
        "print(store_items[0:4])"
      ],
      "metadata": {
        "colab": {
          "base_uri": "https://localhost:8080/"
        },
        "id": "Zjh8Gn-px6Fr",
        "outputId": "a633d7fa-de26-4a35-91c2-470e1fa8b7f9"
      },
      "execution_count": 16,
      "outputs": [
        {
          "output_type": "stream",
          "name": "stdout",
          "text": [
            "['Apple', 1.49, 'Banana', 6]\n"
          ]
        }
      ]
    },
    {
      "cell_type": "code",
      "source": [
        "print(store_items[2:])"
      ],
      "metadata": {
        "colab": {
          "base_uri": "https://localhost:8080/"
        },
        "id": "Yujtm0_eyAZq",
        "outputId": "6ce7dc46-61db-4e5a-e918-22849ffe2058"
      },
      "execution_count": 18,
      "outputs": [
        {
          "output_type": "stream",
          "name": "stdout",
          "text": [
            "['Banana', 6, 'Milk', 10, 'Cheese', 34]\n"
          ]
        }
      ]
    },
    {
      "cell_type": "code",
      "source": [
        "store_items[2] = 'Chocolate'\n",
        "print(store_items)"
      ],
      "metadata": {
        "colab": {
          "base_uri": "https://localhost:8080/"
        },
        "id": "wnMMqJx_yhJf",
        "outputId": "979141ef-565d-4e7d-8c66-b703ac5cfe3a"
      },
      "execution_count": 21,
      "outputs": [
        {
          "output_type": "stream",
          "name": "stdout",
          "text": [
            "['Apple', 1.49, 'Chocolate', 6, 'Milk', 10, 'Cheese', 34]\n"
          ]
        }
      ]
    },
    {
      "cell_type": "code",
      "source": [
        "age = 24\n",
        "print(age, type(age))"
      ],
      "metadata": {
        "colab": {
          "base_uri": "https://localhost:8080/"
        },
        "id": "8C4hzdiGy7JK",
        "outputId": "ff582515-7f16-4b44-c4d4-be94230fd3df"
      },
      "execution_count": 22,
      "outputs": [
        {
          "output_type": "stream",
          "name": "stdout",
          "text": [
            "24 <class 'int'>\n"
          ]
        }
      ]
    },
    {
      "cell_type": "code",
      "source": [
        "age = 24\n",
        "age += 15\n",
        "print(age, type(age))"
      ],
      "metadata": {
        "colab": {
          "base_uri": "https://localhost:8080/"
        },
        "id": "pXWLMPV-zC5D",
        "outputId": "cdbcc654-3fcf-4757-fde3-bf8b741a02ee"
      },
      "execution_count": 23,
      "outputs": [
        {
          "output_type": "stream",
          "name": "stdout",
          "text": [
            "39 <class 'int'>\n"
          ]
        }
      ]
    },
    {
      "cell_type": "code",
      "source": [
        "age = '24'\n",
        "print(age, type(age))"
      ],
      "metadata": {
        "colab": {
          "base_uri": "https://localhost:8080/"
        },
        "id": "Vx9aTZpyzP9R",
        "outputId": "47640f24-e583-40a7-8189-63fc0ba950ed"
      },
      "execution_count": 24,
      "outputs": [
        {
          "output_type": "stream",
          "name": "stdout",
          "text": [
            "24 <class 'str'>\n"
          ]
        }
      ]
    },
    {
      "cell_type": "code",
      "source": [
        "print('Hi, this is Python !')"
      ],
      "metadata": {
        "colab": {
          "base_uri": "https://localhost:8080/"
        },
        "id": "lQWL8O0izSli",
        "outputId": "b72938ed-49b7-4513-a615-4286a6d9d2fe"
      },
      "execution_count": 26,
      "outputs": [
        {
          "output_type": "stream",
          "name": "stdout",
          "text": [
            "Hi, this is Python !\n"
          ]
        }
      ]
    },
    {
      "cell_type": "code",
      "source": [
        "name = input('Name: ')\n",
        "print('Greetings', name)"
      ],
      "metadata": {
        "colab": {
          "base_uri": "https://localhost:8080/"
        },
        "id": "PyWy2BWM02bK",
        "outputId": "ecbb57ed-58ad-42ad-b272-2f23933b20e5"
      },
      "execution_count": 28,
      "outputs": [
        {
          "output_type": "stream",
          "name": "stdout",
          "text": [
            "Name: dilara\n",
            "Greetings dilara\n"
          ]
        }
      ]
    },
    {
      "cell_type": "code",
      "source": [
        "number = int(input('Number: '))\n",
        "print(number + 10)"
      ],
      "metadata": {
        "colab": {
          "base_uri": "https://localhost:8080/"
        },
        "id": "lpS-3Fek1V0D",
        "outputId": "dc35a32f-7f79-4e8b-c806-e802ae911057"
      },
      "execution_count": 36,
      "outputs": [
        {
          "output_type": "stream",
          "name": "stdout",
          "text": [
            "Number: 40\n",
            "50\n"
          ]
        }
      ]
    },
    {
      "cell_type": "code",
      "source": [
        "import math"
      ],
      "metadata": {
        "id": "M0ZBgWAM25vg"
      },
      "execution_count": 37,
      "outputs": []
    },
    {
      "cell_type": "code",
      "source": [
        "floor_number = (math.floor(5.89))\n",
        "\n",
        "print(floor_number, type(floor_number))"
      ],
      "metadata": {
        "colab": {
          "base_uri": "https://localhost:8080/"
        },
        "id": "Vy6q_Dyy28oe",
        "outputId": "7889d0a0-b5e3-435d-db74-43d22822564c"
      },
      "execution_count": 38,
      "outputs": [
        {
          "output_type": "stream",
          "name": "stdout",
          "text": [
            "5 <class 'int'>\n"
          ]
        }
      ]
    },
    {
      "cell_type": "code",
      "source": [
        "import datetime\n",
        "\n",
        "print(datetime.datetime.now())"
      ],
      "metadata": {
        "colab": {
          "base_uri": "https://localhost:8080/"
        },
        "id": "gtpziiil3yD0",
        "outputId": "ab42dbaf-bedc-4b05-a413-7b088768e62c"
      },
      "execution_count": 40,
      "outputs": [
        {
          "output_type": "stream",
          "name": "stdout",
          "text": [
            "2023-01-09 23:31:34.906947\n"
          ]
        }
      ]
    },
    {
      "cell_type": "code",
      "source": [
        "import random \n",
        "print(random.randint(7,39))"
      ],
      "metadata": {
        "colab": {
          "base_uri": "https://localhost:8080/"
        },
        "id": "dKQEezsK4PBr",
        "outputId": "728f1eac-c93e-460b-9b89-066bfef82037"
      },
      "execution_count": 42,
      "outputs": [
        {
          "output_type": "stream",
          "name": "stdout",
          "text": [
            "15\n"
          ]
        }
      ]
    },
    {
      "cell_type": "code",
      "source": [
        "print(\"2 + 3 = \", 2+3)\n",
        "print(\"2 - 3 = \", 2-3)\n",
        "print(\"2 / 3 = \", 2/3)\n",
        "print(\"2 * 3 = \", 2*3)\n",
        "print(\"2 ** 3 = \", 2**3)\n",
        "print(\"2 // 3 = \", 2//3)"
      ],
      "metadata": {
        "colab": {
          "base_uri": "https://localhost:8080/"
        },
        "id": "3Av-vBa94hKm",
        "outputId": "0052d7b4-2819-4324-c134-0bc13af9a2ae"
      },
      "execution_count": 48,
      "outputs": [
        {
          "output_type": "stream",
          "name": "stdout",
          "text": [
            "2 + 3 =  5\n",
            "2 - 3 =  -1\n",
            "2 / 3 =  0.6666666666666666\n",
            "2 * 3 =  6\n",
            "2 ** 3 =  8\n",
            "2 // 3 =  0\n"
          ]
        }
      ]
    },
    {
      "cell_type": "code",
      "source": [
        "x = 8 # equivalent to x = 5\n",
        "x += 8 # equivalent to x = x + 8\n",
        "x -= 8 # equivalent to x = x - 8\n",
        "x *= 8 # equivalent to x = x * 8\n",
        "x /= 8 # equivalent to x = x / 8"
      ],
      "metadata": {
        "id": "zmXk8-tb6fsJ"
      },
      "execution_count": 49,
      "outputs": []
    },
    {
      "cell_type": "code",
      "source": [
        "number1 = 20\n",
        "number2 = 35\n",
        "\n",
        "print(number1, \"<\", number2, \"=\", number1 < number2)\n",
        "print(number1, \">\", number2, \"=\", number1 > number2)\n",
        "print(number1, \"==\", number2, \"=\", number1 == number2)\n",
        "print(number1, \"<=\", number2, \"=\", number1 <= number2)\n",
        "print(number1, \">=\", number2, \"=\", number1 >= number2)\n",
        "print(number1, \"!=\", number2, \"=\", number1 != number2)"
      ],
      "metadata": {
        "colab": {
          "base_uri": "https://localhost:8080/"
        },
        "id": "FxD3NcZn7XnG",
        "outputId": "9edf9cbb-d92d-4111-dde4-19c98100be96"
      },
      "execution_count": 60,
      "outputs": [
        {
          "output_type": "stream",
          "name": "stdout",
          "text": [
            "20 < 35 = True\n",
            "20 > 35 = False\n",
            "20 == 35 = False\n",
            "20 <= 35 = True\n",
            "20 >= 35 = False\n",
            "20 != 35 = True\n"
          ]
        }
      ]
    },
    {
      "cell_type": "code",
      "source": [
        "celsius = 27\n",
        "if celsius > 20:\n",
        "  print('GOOD ☀️')"
      ],
      "metadata": {
        "id": "ZAaIaTbl8kBL",
        "outputId": "5aa4ca98-5ccb-4241-a50b-2d457e233900",
        "colab": {
          "base_uri": "https://localhost:8080/"
        }
      },
      "execution_count": 62,
      "outputs": [
        {
          "output_type": "stream",
          "name": "stdout",
          "text": [
            "GOOD ☀️\n"
          ]
        }
      ]
    },
    {
      "cell_type": "code",
      "source": [
        "drivers_licence = True\n",
        "age = 17\n",
        "\n",
        "if age > 17:\n",
        "  if drivers_licence:\n",
        "    print('You can drive car')\n",
        "  else:\n",
        "      print('You need to go to a drivers licence course')\n",
        "else:\n",
        "      print('You need to get older')"
      ],
      "metadata": {
        "id": "kKpVNHFeCy_E",
        "outputId": "dc488cc3-a076-4c85-8690-30d75cfd2622",
        "colab": {
          "base_uri": "https://localhost:8080/"
        }
      },
      "execution_count": 66,
      "outputs": [
        {
          "output_type": "stream",
          "name": "stdout",
          "text": [
            "You need to get older\n"
          ]
        }
      ]
    }
  ]
}