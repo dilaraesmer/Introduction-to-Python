{
  "nbformat": 4,
  "nbformat_minor": 0,
  "metadata": {
    "colab": {
      "provenance": [],
      "authorship_tag": "ABX9TyM+gCXW9g1+RzPuK1OD7wyI",
      "include_colab_link": true
    },
    "kernelspec": {
      "name": "python3",
      "display_name": "Python 3"
    },
    "language_info": {
      "name": "python"
    },
    "gpuClass": "standard"
  },
  "cells": [
    {
      "cell_type": "markdown",
      "metadata": {
        "id": "view-in-github",
        "colab_type": "text"
      },
      "source": [
        "<a href=\"https://colab.research.google.com/github/dilaraesmer/Introduction-to-python/blob/main/python_syntax_essentials.ipynb\" target=\"_parent\"><img src=\"https://colab.research.google.com/assets/colab-badge.svg\" alt=\"Open In Colab\"/></a>"
      ]
    },
    {
      "cell_type": "code",
      "execution_count": 1,
      "metadata": {
        "id": "N19egkTg_7kk",
        "colab": {
          "base_uri": "https://localhost:8080/"
        },
        "outputId": "6eb35784-0932-4ffe-e80e-fe2033c6fe59"
      },
      "outputs": [
        {
          "output_type": "stream",
          "name": "stdout",
          "text": [
            "my favourite number is smaller than 40\n"
          ]
        }
      ],
      "source": [
        "fav_number = 38\n",
        "if fav_number < 40: \n",
        " print(\"my favourite number is smaller than 40\")"
      ]
    },
    {
      "cell_type": "code",
      "source": [
        "a = 59 \n",
        "if a < 60:\n",
        "  a = a + 1\n",
        "print(\"\")"
      ],
      "metadata": {
        "id": "tFRmgzRECrln",
        "colab": {
          "base_uri": "https://localhost:8080/"
        },
        "outputId": "2e08028f-0458-4c0d-eec0-1b978b279d53"
      },
      "execution_count": 2,
      "outputs": [
        {
          "output_type": "stream",
          "name": "stdout",
          "text": [
            "\n"
          ]
        }
      ]
    },
    {
      "cell_type": "code",
      "source": [
        "def greeting(name):\n",
        "  print('Hello '+ name)\n",
        "greeting('Dilara')"
      ],
      "metadata": {
        "id": "8Yh7gUu8DZaX",
        "colab": {
          "base_uri": "https://localhost:8080/"
        },
        "outputId": "a52e6ddc-5db3-4777-e6d3-aef08a0aacd6"
      },
      "execution_count": 4,
      "outputs": [
        {
          "output_type": "stream",
          "name": "stdout",
          "text": [
            "Hello Dilara\n"
          ]
        }
      ]
    },
    {
      "cell_type": "code",
      "source": [
        "def greetings(name):\n",
        "  print(f'Hello , {name}')\n",
        "greetings('Dilara')"
      ],
      "metadata": {
        "id": "MJKIgXCSFd9V",
        "colab": {
          "base_uri": "https://localhost:8080/"
        },
        "outputId": "7baa5e65-54cf-4c94-cbe1-5cceb78ff124"
      },
      "execution_count": 5,
      "outputs": [
        {
          "output_type": "stream",
          "name": "stdout",
          "text": [
            "Hello , Dilara\n"
          ]
        }
      ]
    },
    {
      "cell_type": "code",
      "source": [
        "name = 'Deniz'\n",
        "type(name)"
      ],
      "metadata": {
        "id": "xC0jn0CKG7FF",
        "colab": {
          "base_uri": "https://localhost:8080/"
        },
        "outputId": "94e83aa5-aa44-4dd7-c849-04de4f87dbc5"
      },
      "execution_count": 3,
      "outputs": [
        {
          "output_type": "execute_result",
          "data": {
            "text/plain": [
              "str"
            ]
          },
          "metadata": {},
          "execution_count": 3
        }
      ]
    },
    {
      "cell_type": "code",
      "source": [
        "age = 38"
      ],
      "metadata": {
        "id": "A3rI2K7tvnOQ"
      },
      "execution_count": 7,
      "outputs": []
    },
    {
      "cell_type": "code",
      "source": [
        "print(age)"
      ],
      "metadata": {
        "id": "tQAxXTcMwlnA",
        "outputId": "db2d2e92-e25a-4eaa-d6be-a74bdc981848",
        "colab": {
          "base_uri": "https://localhost:8080/"
        }
      },
      "execution_count": 8,
      "outputs": [
        {
          "output_type": "stream",
          "name": "stdout",
          "text": [
            "38\n"
          ]
        }
      ]
    },
    {
      "cell_type": "code",
      "source": [
        "print(type(name))"
      ],
      "metadata": {
        "id": "N3EtTdsOwtJT",
        "outputId": "031e82c2-ef30-4c6d-f399-12089dba193d",
        "colab": {
          "base_uri": "https://localhost:8080/"
        }
      },
      "execution_count": 9,
      "outputs": [
        {
          "output_type": "stream",
          "name": "stdout",
          "text": [
            "<class 'str'>\n"
          ]
        }
      ]
    },
    {
      "cell_type": "code",
      "source": [
        "print(type(age))"
      ],
      "metadata": {
        "id": "Tw5zN5Jtwvtp",
        "outputId": "d00ea6f9-acf3-45ad-bb4c-7de4e5181df2",
        "colab": {
          "base_uri": "https://localhost:8080/"
        }
      },
      "execution_count": 10,
      "outputs": [
        {
          "output_type": "stream",
          "name": "stdout",
          "text": [
            "<class 'int'>\n"
          ]
        }
      ]
    },
    {
      "cell_type": "code",
      "source": [
        "store_items = ['Apple', 1.49, 'Banana', 6, 'Milk', 10, 'Cheese', 34]\n",
        "print(store_items, type(store_items))"
      ],
      "metadata": {
        "id": "XE0riIVhxOu2",
        "outputId": "04bc6f5d-eec5-4dc3-9540-5f93652df182",
        "colab": {
          "base_uri": "https://localhost:8080/"
        }
      },
      "execution_count": 12,
      "outputs": [
        {
          "output_type": "stream",
          "name": "stdout",
          "text": [
            "['Apple', 1.49, 'Banana', 6, 'Milk', 10, 'Cheese', 34] <class 'list'>\n"
          ]
        }
      ]
    },
    {
      "cell_type": "code",
      "source": [
        "print(store_items[6])"
      ],
      "metadata": {
        "id": "An_TPl4ixt2h",
        "outputId": "9bf28c87-cee9-4d8b-e902-5788ee7919bc",
        "colab": {
          "base_uri": "https://localhost:8080/"
        }
      },
      "execution_count": 15,
      "outputs": [
        {
          "output_type": "stream",
          "name": "stdout",
          "text": [
            "Cheese\n"
          ]
        }
      ]
    },
    {
      "cell_type": "code",
      "source": [
        "print(store_items[0:4])"
      ],
      "metadata": {
        "id": "Zjh8Gn-px6Fr",
        "outputId": "a633d7fa-de26-4a35-91c2-470e1fa8b7f9",
        "colab": {
          "base_uri": "https://localhost:8080/"
        }
      },
      "execution_count": 16,
      "outputs": [
        {
          "output_type": "stream",
          "name": "stdout",
          "text": [
            "['Apple', 1.49, 'Banana', 6]\n"
          ]
        }
      ]
    },
    {
      "cell_type": "code",
      "source": [
        "print(store_items[2:])"
      ],
      "metadata": {
        "id": "Yujtm0_eyAZq",
        "outputId": "6ce7dc46-61db-4e5a-e918-22849ffe2058",
        "colab": {
          "base_uri": "https://localhost:8080/"
        }
      },
      "execution_count": 18,
      "outputs": [
        {
          "output_type": "stream",
          "name": "stdout",
          "text": [
            "['Banana', 6, 'Milk', 10, 'Cheese', 34]\n"
          ]
        }
      ]
    }
  ]
}