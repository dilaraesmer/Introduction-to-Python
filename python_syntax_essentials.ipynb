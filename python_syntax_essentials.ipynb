{
  "nbformat": 4,
  "nbformat_minor": 0,
  "metadata": {
    "colab": {
      "provenance": []
    },
    "kernelspec": {
      "name": "python3",
      "display_name": "Python 3"
    },
    "language_info": {
      "name": "python"
    },
    "gpuClass": "standard"
  },
  "cells": [
    {
      "cell_type": "code",
      "execution_count": 1,
      "metadata": {
        "id": "N19egkTg_7kk",
        "colab": {
          "base_uri": "https://localhost:8080/"
        },
        "outputId": "d52a61f2-3c21-46ca-a822-0b31dace3b45"
      },
      "outputs": [
        {
          "output_type": "stream",
          "name": "stdout",
          "text": [
            "my favourite number is smaller than 40\n"
          ]
        }
      ],
      "source": [
        "fav_number = 38\n",
        "if fav_number < 40: \n",
        " print(\"my favourite number is smaller than 40\")"
      ]
    },
    {
      "cell_type": "code",
      "source": [
        "a = 59 \n",
        "if a < 60:\n",
        "  a = a + 1\n",
        "print(\"\")"
      ],
      "metadata": {
        "id": "tFRmgzRECrln",
        "colab": {
          "base_uri": "https://localhost:8080/"
        },
        "outputId": "340e26c8-131c-49ac-e856-4f23fced5eed"
      },
      "execution_count": 2,
      "outputs": [
        {
          "output_type": "stream",
          "name": "stdout",
          "text": [
            "\n"
          ]
        }
      ]
    },
    {
      "cell_type": "code",
      "source": [
        "def greeting(name):\n",
        "  print('Hello '+ name)\n",
        "greeting('Dilara')"
      ],
      "metadata": {
        "id": "8Yh7gUu8DZaX",
        "colab": {
          "base_uri": "https://localhost:8080/"
        },
        "outputId": "e30fbc53-6e83-4976-f656-48820eeb9a22"
      },
      "execution_count": 3,
      "outputs": [
        {
          "output_type": "stream",
          "name": "stdout",
          "text": [
            "Hello Dilara\n"
          ]
        }
      ]
    },
    {
      "cell_type": "code",
      "source": [
        "def greetings(name):\n",
        "  print(f'Hello , {name}')\n",
        "greetings('Dilara')"
      ],
      "metadata": {
        "id": "MJKIgXCSFd9V",
        "colab": {
          "base_uri": "https://localhost:8080/"
        },
        "outputId": "553634bb-bbc0-4ede-8c51-19b0755ca81a"
      },
      "execution_count": 4,
      "outputs": [
        {
          "output_type": "stream",
          "name": "stdout",
          "text": [
            "Hello , Dilara\n"
          ]
        }
      ]
    },
    {
      "cell_type": "code",
      "source": [
        "name = 'Deniz'\n",
        "type(name)"
      ],
      "metadata": {
        "id": "xC0jn0CKG7FF",
        "colab": {
          "base_uri": "https://localhost:8080/"
        },
        "outputId": "1cbab9b8-9fb0-4606-d23d-f3e592b7f61d"
      },
      "execution_count": 5,
      "outputs": [
        {
          "output_type": "execute_result",
          "data": {
            "text/plain": [
              "str"
            ]
          },
          "metadata": {},
          "execution_count": 5
        }
      ]
    }
  ]
}