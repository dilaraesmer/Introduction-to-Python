{
  "nbformat": 4,
  "nbformat_minor": 0,
  "metadata": {
    "colab": {
      "provenance": [],
      "authorship_tag": "ABX9TyM7oqbQlcaQcArHT+G3srhR",
      "include_colab_link": true
    },
    "kernelspec": {
      "name": "python3",
      "display_name": "Python 3"
    },
    "language_info": {
      "name": "python"
    },
    "gpuClass": "standard"
  },
  "cells": [
    {
      "cell_type": "markdown",
      "metadata": {
        "id": "view-in-github",
        "colab_type": "text"
      },
      "source": [
        "<a href=\"https://colab.research.google.com/github/dilaraesmer/Introduction-to-python/blob/main/Data_structures.ipynb\" target=\"_parent\"><img src=\"https://colab.research.google.com/assets/colab-badge.svg\" alt=\"Open In Colab\"/></a>"
      ]
    },
    {
      "cell_type": "code",
      "execution_count": 1,
      "metadata": {
        "id": "Z1e0XqphKNRM"
      },
      "outputs": [],
      "source": [
        "shopping_list = [\"Apple\", \"Juice\", \"Ball\", \"Book\"]"
      ]
    },
    {
      "cell_type": "code",
      "source": [
        "shopping_list.append(\"Water\")\n",
        "print(shopping_list)"
      ],
      "metadata": {
        "colab": {
          "base_uri": "https://localhost:8080/"
        },
        "id": "Gf0_T682K2eE",
        "outputId": "d0e50b9d-1724-4357-fb6a-71ffda7fb049"
      },
      "execution_count": 2,
      "outputs": [
        {
          "output_type": "stream",
          "name": "stdout",
          "text": [
            "['Apple', 'Juice', 'Ball', 'Book', 'Water']\n"
          ]
        }
      ]
    },
    {
      "cell_type": "code",
      "source": [
        "shopping_list.insert(2, \"Banana\")\n",
        "print(shopping_list)"
      ],
      "metadata": {
        "colab": {
          "base_uri": "https://localhost:8080/"
        },
        "id": "0kny9x1JLIpb",
        "outputId": "77281f70-f026-460e-8e07-234bca054341"
      },
      "execution_count": 3,
      "outputs": [
        {
          "output_type": "stream",
          "name": "stdout",
          "text": [
            "['Apple', 'Juice', 'Banana', 'Ball', 'Book', 'Water']\n"
          ]
        }
      ]
    },
    {
      "cell_type": "code",
      "source": [
        "shopping_list.remove(\"Apple\")\n",
        "print(shopping_list)"
      ],
      "metadata": {
        "colab": {
          "base_uri": "https://localhost:8080/"
        },
        "id": "UfWDVmjCLzi2",
        "outputId": "a62cb3fe-d6b1-47cb-af76-75a964aa17c3"
      },
      "execution_count": 4,
      "outputs": [
        {
          "output_type": "stream",
          "name": "stdout",
          "text": [
            "['Juice', 'Banana', 'Ball', 'Book', 'Water']\n"
          ]
        }
      ]
    },
    {
      "cell_type": "code",
      "source": [
        "shopping_list[3] = 'Strawberry'\n",
        "print(shopping_list)"
      ],
      "metadata": {
        "colab": {
          "base_uri": "https://localhost:8080/"
        },
        "id": "Ihbz4GuuMMrF",
        "outputId": "4d96555e-268b-4906-f428-9b8227df8ec3"
      },
      "execution_count": 5,
      "outputs": [
        {
          "output_type": "stream",
          "name": "stdout",
          "text": [
            "['Juice', 'Banana', 'Ball', 'Strawberry', 'Water']\n"
          ]
        }
      ]
    },
    {
      "cell_type": "code",
      "source": [
        "number_list = [1,2,3,4,5]"
      ],
      "metadata": {
        "id": "xc6jeblDNiRT"
      },
      "execution_count": 6,
      "outputs": []
    },
    {
      "cell_type": "code",
      "source": [
        "square_list = []"
      ],
      "metadata": {
        "id": "5mpl6ECcNqi6"
      },
      "execution_count": 7,
      "outputs": []
    },
    {
      "cell_type": "code",
      "source": [
        "for num in number_list:\n",
        "  square_list.append(num**2)"
      ],
      "metadata": {
        "id": "Vb595Nk0Nvt0"
      },
      "execution_count": 8,
      "outputs": []
    },
    {
      "cell_type": "code",
      "source": [
        "print(square_list)"
      ],
      "metadata": {
        "colab": {
          "base_uri": "https://localhost:8080/"
        },
        "id": "ZbmjPLJaN_eI",
        "outputId": "934b5db4-ab95-4e0a-de2d-d1816e939e7c"
      },
      "execution_count": 9,
      "outputs": [
        {
          "output_type": "stream",
          "name": "stdout",
          "text": [
            "[1, 4, 9, 16, 25]\n"
          ]
        }
      ]
    },
    {
      "cell_type": "code",
      "source": [
        "number_list = [1,2,3,4,5]\n",
        "square_list = [num**2 for num in number_list]\n",
        "\n",
        "print(square_list)"
      ],
      "metadata": {
        "colab": {
          "base_uri": "https://localhost:8080/"
        },
        "id": "wWq7qY6KOnmC",
        "outputId": "785a6736-e7ee-4662-d70a-aa03869da657"
      },
      "execution_count": 10,
      "outputs": [
        {
          "output_type": "stream",
          "name": "stdout",
          "text": [
            "[1, 4, 9, 16, 25]\n"
          ]
        }
      ]
    },
    {
      "cell_type": "markdown",
      "source": [
        "Tuples"
      ],
      "metadata": {
        "id": "kOdi7JzqPrys"
      }
    },
    {
      "cell_type": "code",
      "source": [
        "shopping_list = (\"Apple\", \"Juice\", \"Ball\", \"Book\")"
      ],
      "metadata": {
        "id": "mX51MOBEPjvi"
      },
      "execution_count": 11,
      "outputs": []
    },
    {
      "cell_type": "code",
      "source": [
        "item1, item2, item3, item4 = shopping_list\n",
        "print(item1)\n",
        "print(item2)\n",
        "print(item3)\n",
        "print(item4)"
      ],
      "metadata": {
        "colab": {
          "base_uri": "https://localhost:8080/"
        },
        "id": "e3vnRsrYQP7r",
        "outputId": "8059a1fb-200c-4d6d-d498-8ec39c94d562"
      },
      "execution_count": 12,
      "outputs": [
        {
          "output_type": "stream",
          "name": "stdout",
          "text": [
            "Apple\n",
            "Juice\n",
            "Ball\n",
            "Book\n"
          ]
        }
      ]
    },
    {
      "cell_type": "code",
      "source": [
        "print(shopping_list[3])"
      ],
      "metadata": {
        "colab": {
          "base_uri": "https://localhost:8080/"
        },
        "id": "QZ6DcLYBRbdt",
        "outputId": "8534da4a-0a49-4f78-c059-592ca0bcaa34"
      },
      "execution_count": 13,
      "outputs": [
        {
          "output_type": "stream",
          "name": "stdout",
          "text": [
            "Book\n"
          ]
        }
      ]
    },
    {
      "cell_type": "code",
      "source": [
        "print(shopping_list[1:3])"
      ],
      "metadata": {
        "colab": {
          "base_uri": "https://localhost:8080/"
        },
        "id": "7qSGiT4mRijq",
        "outputId": "0ce5ff61-3554-4ab0-ca85-1bd7ec022638"
      },
      "execution_count": 14,
      "outputs": [
        {
          "output_type": "stream",
          "name": "stdout",
          "text": [
            "('Juice', 'Ball')\n"
          ]
        }
      ]
    },
    {
      "cell_type": "code",
      "source": [
        "# ERROR\n",
        "shopping_list[2] = \"Pencil\"\n",
        "# tuple object does not support item assignment"
      ],
      "metadata": {
        "colab": {
          "base_uri": "https://localhost:8080/",
          "height": 200
        },
        "id": "f0JiEoKwRySS",
        "outputId": "b5d7e044-1187-4808-e58b-f7a5f3473441"
      },
      "execution_count": 15,
      "outputs": [
        {
          "output_type": "error",
          "ename": "TypeError",
          "evalue": "ignored",
          "traceback": [
            "\u001b[0;31m---------------------------------------------------------------------------\u001b[0m",
            "\u001b[0;31mTypeError\u001b[0m                                 Traceback (most recent call last)",
            "\u001b[0;32m<ipython-input-15-4624cd45f910>\u001b[0m in \u001b[0;36m<module>\u001b[0;34m\u001b[0m\n\u001b[1;32m      1\u001b[0m \u001b[0;31m# ERROR\u001b[0m\u001b[0;34m\u001b[0m\u001b[0;34m\u001b[0m\u001b[0;34m\u001b[0m\u001b[0m\n\u001b[0;32m----> 2\u001b[0;31m \u001b[0mshopping_list\u001b[0m\u001b[0;34m[\u001b[0m\u001b[0;36m2\u001b[0m\u001b[0;34m]\u001b[0m \u001b[0;34m=\u001b[0m \u001b[0;34m\"Pencil\"\u001b[0m\u001b[0;34m\u001b[0m\u001b[0;34m\u001b[0m\u001b[0m\n\u001b[0m\u001b[1;32m      3\u001b[0m \u001b[0;31m# tuple object does not support item assignment\u001b[0m\u001b[0;34m\u001b[0m\u001b[0;34m\u001b[0m\u001b[0;34m\u001b[0m\u001b[0m\n",
            "\u001b[0;31mTypeError\u001b[0m: 'tuple' object does not support item assignment"
          ]
        }
      ]
    },
    {
      "cell_type": "code",
      "source": [
        "expenses = {'Apple' : 23 , 'Banana': 36, 'Walnut': 70, 'Books': 200}\n",
        "print(expenses)"
      ],
      "metadata": {
        "colab": {
          "base_uri": "https://localhost:8080/"
        },
        "id": "FluaNhVS4Cp6",
        "outputId": "1134870d-70c2-462b-f99b-02561c09229e"
      },
      "execution_count": 19,
      "outputs": [
        {
          "output_type": "stream",
          "name": "stdout",
          "text": [
            "{'Apple': 23, 'Banana': 36, 'Walnut': 70, 'Books': 200}\n"
          ]
        }
      ]
    },
    {
      "cell_type": "code",
      "source": [
        "print(expenses[\"Books\"])"
      ],
      "metadata": {
        "colab": {
          "base_uri": "https://localhost:8080/"
        },
        "id": "GnKc2xzW59DC",
        "outputId": "26a55f1d-32a1-41eb-d909-620092a35953"
      },
      "execution_count": 20,
      "outputs": [
        {
          "output_type": "stream",
          "name": "stdout",
          "text": [
            "200\n"
          ]
        }
      ]
    },
    {
      "cell_type": "code",
      "source": [
        "inventory = dict()\n",
        "inventory['bananas'] = 25\n",
        "inventory['apples'] = 102\n",
        "inventory['oranges'] = 54\n",
        "inventory['watermelons'] = 4"
      ],
      "metadata": {
        "id": "RcECjDS06BCZ"
      },
      "execution_count": 21,
      "outputs": []
    },
    {
      "cell_type": "code",
      "source": [
        "print(inventory)"
      ],
      "metadata": {
        "colab": {
          "base_uri": "https://localhost:8080/"
        },
        "id": "E3aM7Rt66uzi",
        "outputId": "c56976ca-ec47-4eff-c389-d6194fc8d6dc"
      },
      "execution_count": 22,
      "outputs": [
        {
          "output_type": "stream",
          "name": "stdout",
          "text": [
            "{'bananas': 25, 'apples': 102, 'oranges': 54, 'watermelons': 4}\n"
          ]
        }
      ]
    },
    {
      "cell_type": "code",
      "source": [
        "for element in inventory:\n",
        "  print(element)"
      ],
      "metadata": {
        "colab": {
          "base_uri": "https://localhost:8080/"
        },
        "id": "MfSeuUaF7Jk2",
        "outputId": "5211a46b-d44e-4a9f-8adb-fa71145a0f99"
      },
      "execution_count": 24,
      "outputs": [
        {
          "output_type": "stream",
          "name": "stdout",
          "text": [
            "bananas\n",
            "apples\n",
            "oranges\n",
            "watermelons\n"
          ]
        }
      ]
    },
    {
      "cell_type": "code",
      "source": [
        "for key in inventory:\n",
        "  inventory[key] += 100\n",
        "\n",
        "print(inventory)"
      ],
      "metadata": {
        "colab": {
          "base_uri": "https://localhost:8080/"
        },
        "id": "xKASoJKq74rP",
        "outputId": "4433b68c-a70c-41d5-89ac-5d849aefcfc6"
      },
      "execution_count": 27,
      "outputs": [
        {
          "output_type": "stream",
          "name": "stdout",
          "text": [
            "{'bananas': 125, 'apples': 202, 'oranges': 154, 'watermelons': 104}\n"
          ]
        }
      ]
    },
    {
      "cell_type": "code",
      "source": [
        "for key, value in inventory.items():\n",
        " if value > 200:\n",
        "   print('Too many', key)\n",
        " else:\n",
        "  print('Enough', key)"
      ],
      "metadata": {
        "colab": {
          "base_uri": "https://localhost:8080/"
        },
        "id": "s_efAG4X8ePq",
        "outputId": "e7a664f0-9efc-4975-d381-d90e2024061a"
      },
      "execution_count": 29,
      "outputs": [
        {
          "output_type": "stream",
          "name": "stdout",
          "text": [
            "Enough bananas\n",
            "Too many apples\n",
            "Enough oranges\n",
            "Enough watermelons\n"
          ]
        }
      ]
    },
    {
      "cell_type": "code",
      "source": [
        "series= range(5)\n",
        "new_series = [num ** 2 for num in series]\n",
        "print(new_series)"
      ],
      "metadata": {
        "colab": {
          "base_uri": "https://localhost:8080/"
        },
        "id": "POqAdqvEAgu-",
        "outputId": "8679ca0d-e710-4b5d-d9ea-c7bfd48e5561"
      },
      "execution_count": 31,
      "outputs": [
        {
          "output_type": "stream",
          "name": "stdout",
          "text": [
            "[0, 1, 4, 9, 16]\n"
          ]
        }
      ]
    },
    {
      "cell_type": "code",
      "source": [
        "price = 20\n",
        "price = float(price)\n",
        "type(price)"
      ],
      "metadata": {
        "colab": {
          "base_uri": "https://localhost:8080/"
        },
        "id": "PZjbz_W5DXg-",
        "outputId": "7f65ad93-815d-40d7-e847-82f8982d26f2"
      },
      "execution_count": 40,
      "outputs": [
        {
          "output_type": "execute_result",
          "data": {
            "text/plain": [
              "float"
            ]
          },
          "metadata": {},
          "execution_count": 40
        }
      ]
    },
    {
      "cell_type": "code",
      "source": [
        "price = price / 1.0\n",
        "type(price)"
      ],
      "metadata": {
        "colab": {
          "base_uri": "https://localhost:8080/"
        },
        "id": "4_ljwN8WDw0q",
        "outputId": "0724b3e4-21c5-43de-a2c9-773437cb5311"
      },
      "execution_count": 38,
      "outputs": [
        {
          "output_type": "execute_result",
          "data": {
            "text/plain": [
              "float"
            ]
          },
          "metadata": {},
          "execution_count": 38
        }
      ]
    },
    {
      "cell_type": "code",
      "source": [
        "price = price * 1.0\n",
        "type(price)"
      ],
      "metadata": {
        "colab": {
          "base_uri": "https://localhost:8080/"
        },
        "id": "jQ_lNLcLD76N",
        "outputId": "85ccb596-42f5-4a42-fcbe-018a8024836a"
      },
      "execution_count": 39,
      "outputs": [
        {
          "output_type": "execute_result",
          "data": {
            "text/plain": [
              "float"
            ]
          },
          "metadata": {},
          "execution_count": 39
        }
      ]
    },
    {
      "cell_type": "code",
      "source": [
        "list_of_numbers = [2,5,6,3,4,9,2]\n",
        "new_list[]\n",
        "\n",
        "for number in list_of_numbers:\n",
        "  inc_number = number + 1\n",
        "  if inc_number < 6:\n",
        "    new_list.append(number)\n",
        "  \n",
        "  print(new_list)\n"
      ],
      "metadata": {
        "colab": {
          "base_uri": "https://localhost:8080/",
          "height": 130
        },
        "id": "Qgo5Lo6VEADv",
        "outputId": "d826093f-775c-4eec-daea-fe69e790997f"
      },
      "execution_count": 41,
      "outputs": [
        {
          "output_type": "error",
          "ename": "SyntaxError",
          "evalue": "ignored",
          "traceback": [
            "\u001b[0;36m  File \u001b[0;32m\"<ipython-input-41-90e87b4d2f34>\"\u001b[0;36m, line \u001b[0;32m2\u001b[0m\n\u001b[0;31m    new_list[]\u001b[0m\n\u001b[0m             ^\u001b[0m\n\u001b[0;31mSyntaxError\u001b[0m\u001b[0;31m:\u001b[0m invalid syntax\n"
          ]
        }
      ]
    },
    {
      "cell_type": "code",
      "source": [
        "x = \"0.2\"\n",
        "type(x)"
      ],
      "metadata": {
        "colab": {
          "base_uri": "https://localhost:8080/"
        },
        "id": "Pzq7xdTHFBjk",
        "outputId": "73b31068-9236-44cd-d3b6-5b4c67519b01"
      },
      "execution_count": 43,
      "outputs": [
        {
          "output_type": "execute_result",
          "data": {
            "text/plain": [
              "str"
            ]
          },
          "metadata": {},
          "execution_count": 43
        }
      ]
    },
    {
      "cell_type": "code",
      "source": [
        "student_age_dict = {\"Alex\": 11, \"Bella\": 12, \"Chris\" : 12, \"Donna\" : 10}\n",
        "for student in student_age_dict.keys():\n",
        "    age = student_age_dict[student]\n",
        "    age += 1\n",
        "\n",
        "    print(student_age_dict)"
      ],
      "metadata": {
        "colab": {
          "base_uri": "https://localhost:8080/"
        },
        "id": "yuRgWVD4F9KM",
        "outputId": "455a9884-4655-4d65-b875-6665156e773a"
      },
      "execution_count": 47,
      "outputs": [
        {
          "output_type": "stream",
          "name": "stdout",
          "text": [
            "{'Alex': 11, 'Bella': 12, 'Chris': 12, 'Donna': 10}\n",
            "{'Alex': 11, 'Bella': 12, 'Chris': 12, 'Donna': 10}\n",
            "{'Alex': 11, 'Bella': 12, 'Chris': 12, 'Donna': 10}\n",
            "{'Alex': 11, 'Bella': 12, 'Chris': 12, 'Donna': 10}\n"
          ]
        }
      ]
    },
    {
      "cell_type": "code",
      "source": [
        "python_txt = open(\"python.txt\", \"w\")"
      ],
      "metadata": {
        "id": "oPL1w4jGHOwp"
      },
      "execution_count": 49,
      "outputs": []
    },
    {
      "cell_type": "code",
      "source": [
        "a = 1\n",
        "b = 2\n",
        "c = \"3\"\n",
        "\n",
        "try: \n",
        "  print(\"t\", a+c)\n",
        "except:\n",
        "  c = int(c)\n",
        "  print(\"e\", a+c)"
      ],
      "metadata": {
        "colab": {
          "base_uri": "https://localhost:8080/"
        },
        "id": "byZXHSXtNyAI",
        "outputId": "38294bf2-7340-4694-cbf3-95cf2f977d63"
      },
      "execution_count": 50,
      "outputs": [
        {
          "output_type": "stream",
          "name": "stdout",
          "text": [
            "e 4\n"
          ]
        }
      ]
    },
    {
      "cell_type": "code",
      "source": [
        "# ERROR\n",
        "my_string =  \"Hello World\"\n",
        "print(my_string[14])"
      ],
      "metadata": {
        "colab": {
          "base_uri": "https://localhost:8080/",
          "height": 183
        },
        "id": "kvYgEzxaOVDq",
        "outputId": "a813530d-a6d2-4052-b979-bd8f9da71a8a"
      },
      "execution_count": 51,
      "outputs": [
        {
          "output_type": "error",
          "ename": "IndexError",
          "evalue": "ignored",
          "traceback": [
            "\u001b[0;31m---------------------------------------------------------------------------\u001b[0m",
            "\u001b[0;31mIndexError\u001b[0m                                Traceback (most recent call last)",
            "\u001b[0;32m<ipython-input-51-9b2778f1d299>\u001b[0m in \u001b[0;36m<module>\u001b[0;34m\u001b[0m\n\u001b[1;32m      1\u001b[0m \u001b[0mmy_string\u001b[0m \u001b[0;34m=\u001b[0m  \u001b[0;34m\"Hello World\"\u001b[0m\u001b[0;34m\u001b[0m\u001b[0;34m\u001b[0m\u001b[0m\n\u001b[0;32m----> 2\u001b[0;31m \u001b[0mprint\u001b[0m\u001b[0;34m(\u001b[0m\u001b[0mmy_string\u001b[0m\u001b[0;34m[\u001b[0m\u001b[0;36m14\u001b[0m\u001b[0;34m]\u001b[0m\u001b[0;34m)\u001b[0m\u001b[0;34m\u001b[0m\u001b[0;34m\u001b[0m\u001b[0m\n\u001b[0m",
            "\u001b[0;31mIndexError\u001b[0m: string index out of range"
          ]
        }
      ]
    },
    {
      "cell_type": "code",
      "source": [
        "def foo1(num1,num2):\n",
        "  try:\n",
        "    return num1 + num2 + 0/1\n",
        "  except:\n",
        "    return \"NewException\"\n",
        "\n",
        "foo1(4,5)"
      ],
      "metadata": {
        "colab": {
          "base_uri": "https://localhost:8080/"
        },
        "id": "wwC8UW8xPg1t",
        "outputId": "6c887413-402a-4497-ff00-6b300fdb0cd1"
      },
      "execution_count": 55,
      "outputs": [
        {
          "output_type": "execute_result",
          "data": {
            "text/plain": [
              "9.0"
            ]
          },
          "metadata": {},
          "execution_count": 55
        }
      ]
    },
    {
      "cell_type": "code",
      "source": [
        "try:\n",
        "  myfile = open(\"myfile.txt\")\n",
        "  myfile.write(\"0\")\n",
        "except:\n",
        "  myfile = open(\"mynewfile.txt\", \"w\")\n",
        "  myfile.write(\"1\")"
      ],
      "metadata": {
        "id": "F8wu9k7eQGCj"
      },
      "execution_count": 54,
      "outputs": []
    }
  ]
}