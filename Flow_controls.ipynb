{
  "nbformat": 4,
  "nbformat_minor": 0,
  "metadata": {
    "colab": {
      "provenance": [],
      "authorship_tag": "ABX9TyPGVstr9XYTg6/PZdAQE7Kx",
      "include_colab_link": true
    },
    "kernelspec": {
      "name": "python3",
      "display_name": "Python 3"
    },
    "language_info": {
      "name": "python"
    },
    "gpuClass": "standard"
  },
  "cells": [
    {
      "cell_type": "markdown",
      "metadata": {
        "id": "view-in-github",
        "colab_type": "text"
      },
      "source": [
        "<a href=\"https://colab.research.google.com/github/dilaraesmer/Introduction-to-python/blob/main/Flow_controls.ipynb\" target=\"_parent\"><img src=\"https://colab.research.google.com/assets/colab-badge.svg\" alt=\"Open In Colab\"/></a>"
      ]
    },
    {
      "cell_type": "code",
      "execution_count": null,
      "metadata": {
        "id": "tjkO1a7FEX2i"
      },
      "outputs": [],
      "source": [
        "celsius = 27\n",
        "if celsius > 20:\n",
        "  print('GOOD ☀️')"
      ]
    },
    {
      "cell_type": "code",
      "source": [
        "drivers_licence = True\n",
        "age = 17\n",
        "\n",
        "if age > 17:\n",
        "  if drivers_licence:\n",
        "    print('You can drive car')\n",
        "  else:\n",
        "      print('You need to go to a drivers licence course')\n",
        "else:\n",
        "      print('You need to get older')"
      ],
      "metadata": {
        "id": "OhhrSw6BEj3m",
        "colab": {
          "base_uri": "https://localhost:8080/"
        },
        "outputId": "4877e503-2b06-4e8d-92f3-512d4086f12b"
      },
      "execution_count": 13,
      "outputs": [
        {
          "output_type": "stream",
          "name": "stdout",
          "text": [
            "You need to get older\n"
          ]
        }
      ]
    },
    {
      "cell_type": "code",
      "source": [
        "numbers = [1,2,3,4,5,6,7,8,9,10]\n",
        "for i in numbers:\n",
        "  print(i)\n",
        "print('Loop is completed')"
      ],
      "metadata": {
        "id": "F0YuIBkMEoIR",
        "colab": {
          "base_uri": "https://localhost:8080/"
        },
        "outputId": "765884b2-3b71-4af2-8393-bcf92005b3a6"
      },
      "execution_count": 14,
      "outputs": [
        {
          "output_type": "stream",
          "name": "stdout",
          "text": [
            "1\n",
            "2\n",
            "3\n",
            "4\n",
            "5\n",
            "6\n",
            "7\n",
            "8\n",
            "9\n",
            "10\n",
            "Loop is completed\n"
          ]
        }
      ]
    },
    {
      "cell_type": "code",
      "source": [
        "numbers = [1,2,3,4,5,6,7,8,9,10]\n",
        "for i in numbers:\n",
        "  print(i)\n",
        "  print('Loop is completed')"
      ],
      "metadata": {
        "id": "M1oJo8gbF3PN",
        "colab": {
          "base_uri": "https://localhost:8080/"
        },
        "outputId": "2a12b3b3-c9a9-46c2-e65f-44298de82b6b"
      },
      "execution_count": 15,
      "outputs": [
        {
          "output_type": "stream",
          "name": "stdout",
          "text": [
            "1\n",
            "Loop is completed\n",
            "2\n",
            "Loop is completed\n",
            "3\n",
            "Loop is completed\n",
            "4\n",
            "Loop is completed\n",
            "5\n",
            "Loop is completed\n",
            "6\n",
            "Loop is completed\n",
            "7\n",
            "Loop is completed\n",
            "8\n",
            "Loop is completed\n",
            "9\n",
            "Loop is completed\n",
            "10\n",
            "Loop is completed\n"
          ]
        }
      ]
    },
    {
      "cell_type": "code",
      "source": [
        "for i in range(1,101):\n",
        "  if i % 5 == 0:\n",
        "    print(i)\n",
        "print('Loop has been completed')"
      ],
      "metadata": {
        "id": "zed3YTNqF8Uj",
        "colab": {
          "base_uri": "https://localhost:8080/"
        },
        "outputId": "0f21aad3-90ef-4a01-d1e3-828fcf31ebe3"
      },
      "execution_count": 16,
      "outputs": [
        {
          "output_type": "stream",
          "name": "stdout",
          "text": [
            "5\n",
            "10\n",
            "15\n",
            "20\n",
            "25\n",
            "30\n",
            "35\n",
            "40\n",
            "45\n",
            "50\n",
            "55\n",
            "60\n",
            "65\n",
            "70\n",
            "75\n",
            "80\n",
            "85\n",
            "90\n",
            "95\n",
            "100\n",
            "Loop has been completed\n"
          ]
        }
      ]
    },
    {
      "cell_type": "code",
      "source": [
        "celsius = 10 \n",
        "\n",
        "if celsius > 30:\n",
        "  print('Hot 🔥')\n",
        "elif 30 >= celsius > 20:\n",
        "    print('GOOD 🎇')\n",
        "elif -273 < celsius <= 20:\n",
        "    print('Cold ❄️')\n",
        "else:\n",
        "  print('Something went wrong!')"
      ],
      "metadata": {
        "id": "dw5kWBq6Gyq0",
        "colab": {
          "base_uri": "https://localhost:8080/"
        },
        "outputId": "f6e2f6d1-5ea2-47c1-efbe-5672c5a736fc"
      },
      "execution_count": 17,
      "outputs": [
        {
          "output_type": "stream",
          "name": "stdout",
          "text": [
            "Cold ❄️\n"
          ]
        }
      ]
    }
  ]
}