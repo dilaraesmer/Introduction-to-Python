{
  "nbformat": 4,
  "nbformat_minor": 0,
  "metadata": {
    "colab": {
      "private_outputs": true,
      "provenance": [],
      "authorship_tag": "ABX9TyPGVstr9XYTg6/PZdAQE7Kx",
      "include_colab_link": true
    },
    "kernelspec": {
      "name": "python3",
      "display_name": "Python 3"
    },
    "language_info": {
      "name": "python"
    }
  },
  "cells": [
    {
      "cell_type": "markdown",
      "metadata": {
        "id": "view-in-github",
        "colab_type": "text"
      },
      "source": [
        "<a href=\"https://colab.research.google.com/github/dilaraesmer/Introduction-to-python/blob/main/Flow_controls.ipynb\" target=\"_parent\"><img src=\"https://colab.research.google.com/assets/colab-badge.svg\" alt=\"Open In Colab\"/></a>"
      ]
    },
    {
      "cell_type": "code",
      "execution_count": null,
      "metadata": {
        "id": "tjkO1a7FEX2i"
      },
      "outputs": [],
      "source": [
        "celsius = 27\n",
        "if celsius > 20:\n",
        "  print('GOOD ☀️')"
      ]
    },
    {
      "cell_type": "code",
      "source": [
        "drivers_licence = True\n",
        "age = 17\n",
        "\n",
        "if age > 17:\n",
        "  if drivers_licence:\n",
        "    print('You can drive car')\n",
        "  else:\n",
        "      print('You need to go to a drivers licence course')\n",
        "else:\n",
        "      print('You need to get older')"
      ],
      "metadata": {
        "id": "OhhrSw6BEj3m"
      },
      "execution_count": null,
      "outputs": []
    },
    {
      "cell_type": "code",
      "source": [
        "numbers = [1,2,3,4,5,6,7,8,9,10]\n",
        "for i in numbers:\n",
        "  print(i)\n",
        "print('Loop is completed')"
      ],
      "metadata": {
        "id": "F0YuIBkMEoIR"
      },
      "execution_count": null,
      "outputs": []
    },
    {
      "cell_type": "code",
      "source": [
        "numbers = [1,2,3,4,5,6,7,8,9,10]\n",
        "for i in numbers:\n",
        "  print(i)\n",
        "  print('Loop is completed')"
      ],
      "metadata": {
        "id": "M1oJo8gbF3PN"
      },
      "execution_count": null,
      "outputs": []
    },
    {
      "cell_type": "code",
      "source": [
        "for i in range(1,101):\n",
        "  if i % 5 == 0:\n",
        "    print(i)\n",
        "print('Loop has been completed')"
      ],
      "metadata": {
        "id": "zed3YTNqF8Uj"
      },
      "execution_count": null,
      "outputs": []
    },
    {
      "cell_type": "code",
      "source": [
        "celsius = 10 \n",
        "\n",
        "if celsius > 30:\n",
        "  print('Hot 🔥')\n",
        "elif 30 >= celsius > 20:\n",
        "    print('GOOD 🎇')\n",
        "elif -273 < celsius <= 20:\n",
        "    print('Cold ❄️')\n",
        "else:\n",
        "  print('Something went wrong!')"
      ],
      "metadata": {
        "id": "dw5kWBq6Gyq0"
      },
      "execution_count": null,
      "outputs": []
    }
  ]
}