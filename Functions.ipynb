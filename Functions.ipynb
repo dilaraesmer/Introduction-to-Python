{
  "nbformat": 4,
  "nbformat_minor": 0,
  "metadata": {
    "colab": {
      "provenance": [],
      "authorship_tag": "ABX9TyP/nkd5R3DpDEg8LirsTX2a",
      "include_colab_link": true
    },
    "kernelspec": {
      "name": "python3",
      "display_name": "Python 3"
    },
    "language_info": {
      "name": "python"
    },
    "gpuClass": "standard"
  },
  "cells": [
    {
      "cell_type": "markdown",
      "metadata": {
        "id": "view-in-github",
        "colab_type": "text"
      },
      "source": [
        "<a href=\"https://colab.research.google.com/github/dilaraesmer/Introduction-to-python/blob/main/Functions.ipynb\" target=\"_parent\"><img src=\"https://colab.research.google.com/assets/colab-badge.svg\" alt=\"Open In Colab\"/></a>"
      ]
    },
    {
      "cell_type": "code",
      "execution_count": 11,
      "metadata": {
        "id": "dFwBPy6c9do2"
      },
      "outputs": [],
      "source": [
        "def hello(name):\n",
        "  print('Hello', name)"
      ]
    },
    {
      "cell_type": "code",
      "source": [
        "hello('Dilara')"
      ],
      "metadata": {
        "colab": {
          "base_uri": "https://localhost:8080/"
        },
        "id": "R9V1f3ms98z2",
        "outputId": "37e6c9f8-7bc1-407f-b3d7-e6e09a160581"
      },
      "execution_count": 12,
      "outputs": [
        {
          "output_type": "stream",
          "name": "stdout",
          "text": [
            "Hello Dilara\n"
          ]
        }
      ]
    },
    {
      "cell_type": "code",
      "source": [
        "def sum(number1, number2):\n",
        "  print(number1 + number2)\n",
        "\n",
        "  result = sum(50, 760)\n",
        "\n",
        "print(result)"
      ],
      "metadata": {
        "colab": {
          "base_uri": "https://localhost:8080/"
        },
        "id": "BWapJ3mF-ksQ",
        "outputId": "178ff8b5-9fd2-45b2-a8bd-ca6ba4e78add"
      },
      "execution_count": 26,
      "outputs": [
        {
          "output_type": "stream",
          "name": "stdout",
          "text": [
            "None\n"
          ]
        }
      ]
    },
    {
      "cell_type": "code",
      "source": [
        "def sum(number1, number2):\n",
        "  answer = number1 + number2\n",
        "  return answer\n",
        "\n",
        "answer = sum(84,59)\n",
        "print(answer)"
      ],
      "metadata": {
        "colab": {
          "base_uri": "https://localhost:8080/"
        },
        "id": "5EM7rbGX-1lA",
        "outputId": "876b60e4-9993-488e-bc38-ef8268952df7"
      },
      "execution_count": 25,
      "outputs": [
        {
          "output_type": "stream",
          "name": "stdout",
          "text": [
            "143\n"
          ]
        }
      ]
    },
    {
      "cell_type": "code",
      "source": [
        "def argument_printer(arg_position1, arg_position2):\n",
        "  print('Argument at position 1:', arg_position1)\n",
        "  print('Argument at position 2:', arg_position2)"
      ],
      "metadata": {
        "id": "Yl5Lq92HCAir"
      },
      "execution_count": 30,
      "outputs": []
    },
    {
      "cell_type": "code",
      "source": [
        "argument_printer('value1', 'value2')"
      ],
      "metadata": {
        "colab": {
          "base_uri": "https://localhost:8080/"
        },
        "id": "p6niRPj-Cnvl",
        "outputId": "f8645f59-094d-4b39-f2cf-0e4be8eaa566"
      },
      "execution_count": 31,
      "outputs": [
        {
          "output_type": "stream",
          "name": "stdout",
          "text": [
            "Argument at position 1: value1\n",
            "Argument at position 2: value2\n"
          ]
        }
      ]
    },
    {
      "cell_type": "code",
      "source": [
        "def greeting(first_name, last_name, auto_correction = True):\n",
        "  if auto_correction == True:\n",
        "     capitalized_first_name = first_name.capitalize()\n",
        "     capitalized_last_name = last_name.capitalize()\n",
        "     print(\"Hello\", capitalized_first_name, capitalized_last_name)\n",
        "  else:\n",
        "    print(\"Hello\", first_name, last_name)"
      ],
      "metadata": {
        "id": "r7CmKg19C6eY"
      },
      "execution_count": 40,
      "outputs": []
    },
    {
      "cell_type": "code",
      "source": [
        "greeting('diLArA', 'eSmEr')"
      ],
      "metadata": {
        "colab": {
          "base_uri": "https://localhost:8080/"
        },
        "id": "Gq78c2MaFPBE",
        "outputId": "9cb62d0c-cab2-4cb8-bf0c-5cb0f53be4b7"
      },
      "execution_count": 41,
      "outputs": [
        {
          "output_type": "stream",
          "name": "stdout",
          "text": [
            "Hello Dilara Esmer\n"
          ]
        }
      ]
    },
    {
      "cell_type": "code",
      "source": [
        "def book(book_name, author_first_name, author_last_name, book_genre, auto_correction = True):\n",
        "  if auto_correction == True:\n",
        "    capitalized_book_name = book_name.capitalize()\n",
        "    capitalized_author_first_name = author_first_name.capitalize()\n",
        "    capitalized_author_last_name = author_last_name.capitalize()\n",
        "    capitalized_book_genre = book_genre.capitalize()\n",
        "  print('My favourite book is the', capitalized_book_name,\n",
        "        capitalized_author_first_name, capitalized_author_last_name,\n",
        "        capitalized_book_genre)"
      ],
      "metadata": {
        "id": "88RmCjWMGPzm"
      },
      "execution_count": 59,
      "outputs": []
    },
    {
      "cell_type": "code",
      "source": [
        "book('İnsan Olmak', 'ENgiN', 'geçTAN', 'psYcholoGy')"
      ],
      "metadata": {
        "colab": {
          "base_uri": "https://localhost:8080/"
        },
        "id": "ID8fQRr5Ko3T",
        "outputId": "efe43c51-aafe-4d40-8a06-5c075c124599"
      },
      "execution_count": 60,
      "outputs": [
        {
          "output_type": "stream",
          "name": "stdout",
          "text": [
            "My favourite book is the İnsan olmak Engin Geçtan Psychology\n"
          ]
        }
      ]
    },
    {
      "cell_type": "code",
      "source": [],
      "metadata": {
        "id": "7uEvT8LBKkIP"
      },
      "execution_count": null,
      "outputs": []
    }
  ]
}