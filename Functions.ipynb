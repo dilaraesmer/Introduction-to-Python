{
  "nbformat": 4,
  "nbformat_minor": 0,
  "metadata": {
    "colab": {
      "provenance": [],
      "authorship_tag": "ABX9TyOmWbuHgj1ocgHxVIt6BR9u",
      "include_colab_link": true
    },
    "kernelspec": {
      "name": "python3",
      "display_name": "Python 3"
    },
    "language_info": {
      "name": "python"
    },
    "gpuClass": "standard"
  },
  "cells": [
    {
      "cell_type": "markdown",
      "metadata": {
        "id": "view-in-github",
        "colab_type": "text"
      },
      "source": [
        "<a href=\"https://colab.research.google.com/github/dilaraesmer/Introduction-to-python/blob/main/Functions.ipynb\" target=\"_parent\"><img src=\"https://colab.research.google.com/assets/colab-badge.svg\" alt=\"Open In Colab\"/></a>"
      ]
    },
    {
      "cell_type": "code",
      "execution_count": 1,
      "metadata": {
        "id": "dFwBPy6c9do2"
      },
      "outputs": [],
      "source": [
        "def hello(name):\n",
        "  print('Hello', name)"
      ]
    },
    {
      "cell_type": "code",
      "source": [
        "hello('Dilara')"
      ],
      "metadata": {
        "colab": {
          "base_uri": "https://localhost:8080/"
        },
        "id": "R9V1f3ms98z2",
        "outputId": "6ba5ef18-bc4b-4f14-aa55-5c614edb2d74"
      },
      "execution_count": 2,
      "outputs": [
        {
          "output_type": "stream",
          "name": "stdout",
          "text": [
            "Hello Dilara\n"
          ]
        }
      ]
    },
    {
      "cell_type": "code",
      "source": [
        "def sum(number1, number2):\n",
        "  print(number1 + number2)\n",
        "\n",
        "  result = sum(50, 760)\n",
        "\n",
        "  print(result)"
      ],
      "metadata": {
        "id": "BWapJ3mF-ksQ"
      },
      "execution_count": 21,
      "outputs": []
    },
    {
      "cell_type": "code",
      "source": [
        "def sum(number1, number2):\n",
        "  answer = number1 + number2\n",
        "  return answer\n",
        "\n",
        "answer = sum(84,59)\n",
        "print(answer)"
      ],
      "metadata": {
        "colab": {
          "base_uri": "https://localhost:8080/"
        },
        "id": "5EM7rbGX-1lA",
        "outputId": "0bbebac0-7702-4307-f376-38d52f630e6a"
      },
      "execution_count": 11,
      "outputs": [
        {
          "output_type": "stream",
          "name": "stdout",
          "text": [
            "143\n"
          ]
        }
      ]
    },
    {
      "cell_type": "code",
      "source": [
        "def argument_printer(arg_position1, arg_position2):\n",
        "  print('Argument at position 1:', arg_position1)\n",
        "  print('Argument at position 2:', arg_position2)"
      ],
      "metadata": {
        "id": "Yl5Lq92HCAir"
      },
      "execution_count": 12,
      "outputs": []
    },
    {
      "cell_type": "code",
      "source": [
        "argument_printer('value1', 'value2')"
      ],
      "metadata": {
        "colab": {
          "base_uri": "https://localhost:8080/"
        },
        "id": "p6niRPj-Cnvl",
        "outputId": "543643e3-5a85-4c23-a071-316396f02eea"
      },
      "execution_count": 13,
      "outputs": [
        {
          "output_type": "stream",
          "name": "stdout",
          "text": [
            "Argument at position 1: value1\n",
            "Argument at position 2: value2\n"
          ]
        }
      ]
    },
    {
      "cell_type": "code",
      "source": [
        "def greeting(first_name, last_name, auto_correction = True):\n",
        "  if auto_correction == True:\n",
        "     capitalized_first_name = first_name.capitalize()\n",
        "     capitalized_last_name = last_name.capitalize()\n",
        "     print(\"Hello\", capitalized_first_name, capitalized_last_name)\n",
        "  else:\n",
        "    print(\"Hello\", first_name, last_name)"
      ],
      "metadata": {
        "id": "r7CmKg19C6eY"
      },
      "execution_count": 14,
      "outputs": []
    },
    {
      "cell_type": "code",
      "source": [
        "greeting('diLArA', 'eSmEr')"
      ],
      "metadata": {
        "colab": {
          "base_uri": "https://localhost:8080/"
        },
        "id": "Gq78c2MaFPBE",
        "outputId": "7d219040-6bf2-470d-a07d-6e4cabd18397"
      },
      "execution_count": 15,
      "outputs": [
        {
          "output_type": "stream",
          "name": "stdout",
          "text": [
            "Hello Dilara Esmer\n"
          ]
        }
      ]
    },
    {
      "cell_type": "code",
      "source": [
        "def book(book_name, author_first_name, author_last_name, book_genre, auto_correction = True):\n",
        "  if auto_correction == True:\n",
        "    capitalized_book_name = book_name.capitalize()\n",
        "    capitalized_author_first_name = author_first_name.capitalize()\n",
        "    capitalized_author_last_name = author_last_name.capitalize()\n",
        "    capitalized_book_genre = book_genre.capitalize()\n",
        "  print('My favourite book is the', capitalized_book_name,\n",
        "        capitalized_author_first_name, capitalized_author_last_name,\n",
        "        capitalized_book_genre)"
      ],
      "metadata": {
        "id": "88RmCjWMGPzm"
      },
      "execution_count": 16,
      "outputs": []
    },
    {
      "cell_type": "code",
      "source": [
        "book('İnsan Olmak', 'ENgiN', 'geçTAN', 'psYcholoGy')"
      ],
      "metadata": {
        "colab": {
          "base_uri": "https://localhost:8080/"
        },
        "id": "ID8fQRr5Ko3T",
        "outputId": "eba493c1-4438-4322-cdfe-3da6f47632b5"
      },
      "execution_count": 17,
      "outputs": [
        {
          "output_type": "stream",
          "name": "stdout",
          "text": [
            "My favourite book is the İnsan olmak Engin Geçtan Psychology\n"
          ]
        }
      ]
    },
    {
      "cell_type": "code",
      "source": [
        "number = 14 # Global Variable\n",
        "\n",
        "def change_number():\n",
        "  number = 5 # Local Variable\n",
        "\n",
        "change_number()\n",
        "print(number)"
      ],
      "metadata": {
        "id": "7uEvT8LBKkIP",
        "colab": {
          "base_uri": "https://localhost:8080/"
        },
        "outputId": "d3af27d5-5e00-4923-d36e-fb49b76a025a"
      },
      "execution_count": 18,
      "outputs": [
        {
          "output_type": "stream",
          "name": "stdout",
          "text": [
            "14\n"
          ]
        }
      ]
    },
    {
      "cell_type": "code",
      "source": [
        "number = 14\n",
        "\n",
        "def change_number():\n",
        "  global number\n",
        "  number = 5\n",
        "\n",
        "change_number()\n",
        "print(number)"
      ],
      "metadata": {
        "colab": {
          "base_uri": "https://localhost:8080/"
        },
        "id": "0xo4NhW3QlYZ",
        "outputId": "5aa104f4-d6c9-43fe-89e5-fe30136a4f8f"
      },
      "execution_count": 19,
      "outputs": [
        {
          "output_type": "stream",
          "name": "stdout",
          "text": [
            "5\n"
          ]
        }
      ]
    }
  ]
}